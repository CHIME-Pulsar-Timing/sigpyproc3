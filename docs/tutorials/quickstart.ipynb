{
 "cells": [
  {
   "cell_type": "markdown",
   "metadata": {},
   "source": [
    "This tutorial covers some of the basic functionality of the sigpyproc package. For a guide on how to extend the\n",
    "package, see the"
   ]
  },
  {
   "cell_type": "markdown",
   "metadata": {},
   "source": [
    "## Getting started"
   ]
  },
  {
   "cell_type": "markdown",
   "metadata": {},
   "source": [
    "For test puproses a small 2-bit filterbank file is included in the `/examples/` directory of the `sigpyproc` package."
   ]
  },
  {
   "cell_type": "markdown",
   "metadata": {},
   "source": [
    "### Loading data into sigpyproc"
   ]
  },
  {
   "cell_type": "markdown",
   "metadata": {},
   "source": [
    "Lets start by loading our filterbank file into sigpyproc. To do this, we require the :class:`FilReader` class from the\n",
    ":automodule:`sigpyproc.Readers` module."
   ]
  },
  {
   "cell_type": "code",
   "execution_count": 1,
   "metadata": {},
   "outputs": [],
   "source": [
    "import numpy as np\n",
    "from sigpyproc.Readers import FilReader"
   ]
  },
  {
   "cell_type": "code",
   "execution_count": 2,
   "metadata": {},
   "outputs": [],
   "source": [
    "myFil = FilReader(\"tutorial.fil\")"
   ]
  },
  {
   "cell_type": "code",
   "execution_count": 3,
   "metadata": {},
   "outputs": [
    {
     "data": {
      "text/plain": [
       "<sigpyproc.Readers.FilReader at 0x7f29d0537ee0>"
      ]
     },
     "execution_count": 3,
     "metadata": {},
     "output_type": "execute_result"
    }
   ],
   "source": [
    "myFil"
   ]
  },
  {
   "cell_type": "markdown",
   "metadata": {},
   "source": [
    "`myFil` now contains an instance of the :class:`sigpyproc.Readers.FilReader` class. We can access obervational\n",
    "meta-data through the `myFil.header` attribute:"
   ]
  },
  {
   "cell_type": "code",
   "execution_count": 4,
   "metadata": {},
   "outputs": [
    {
     "data": {
      "text/plain": [
       "{'telescope_id': 0,\n",
       " 'nbits': 2,\n",
       " 'fch1': 1510.0,\n",
       " 'data_type': 1,\n",
       " 'nchans': 64,\n",
       " 'tsamp': 0.00032,\n",
       " 'foff': -1.09,\n",
       " 'tstart': 50000.0,\n",
       " 'source_name': 'P: 250.000000000000 ms, DM: 30.000',\n",
       " 'nifs': 1,\n",
       " 'machine_id': 0,\n",
       " 'hdrlen': 244,\n",
       " 'filelen': 3000564,\n",
       " 'nbytes': 3000320,\n",
       " 'nsamples': 187520,\n",
       " 'filename': 'tutorial.fil',\n",
       " 'basename': 'tutorial',\n",
       " 'extension': '.fil',\n",
       " 'bandwidth': 69.76,\n",
       " 'ftop': 1510.545,\n",
       " 'fbottom': 1440.785,\n",
       " 'fcenter': 1475.665,\n",
       " 'tobs': 60.006400000000006,\n",
       " 'src_raj': 0,\n",
       " 'src_dej': 0,\n",
       " 'ra': '00:00:00.0000',\n",
       " 'dec': '00:00:00.0000',\n",
       " 'ra_rad': 0.0,\n",
       " 'dec_rad': 0.0,\n",
       " 'ra_deg': 0.0,\n",
       " 'dec_deg': 0.0,\n",
       " 'obs_date': '09/10/1995',\n",
       " 'obs_time': '00:00:00.00000',\n",
       " 'dtype': '<u1'}"
      ]
     },
     "execution_count": 4,
     "metadata": {},
     "output_type": "execute_result"
    }
   ],
   "source": [
    "myFil.header"
   ]
  },
  {
   "cell_type": "markdown",
   "metadata": {},
   "source": [
    "where"
   ]
  },
  {
   "cell_type": "code",
   "execution_count": 5,
   "metadata": {},
   "outputs": [
    {
     "data": {
      "text/plain": [
       "sigpyproc.Header.Header"
      ]
     },
     "execution_count": 5,
     "metadata": {},
     "output_type": "execute_result"
    }
   ],
   "source": [
    "type(myFil.header)"
   ]
  },
  {
   "cell_type": "markdown",
   "metadata": {},
   "source": [
    "All values stored in the `myFil.header` attribute may be accessed both as dictionary items and/or as attributes, i.e.:"
   ]
  },
  {
   "cell_type": "code",
   "execution_count": 6,
   "metadata": {},
   "outputs": [
    {
     "data": {
      "text/plain": [
       "64"
      ]
     },
     "execution_count": 6,
     "metadata": {},
     "output_type": "execute_result"
    }
   ],
   "source": [
    "myFil.header[\"nchans\"]"
   ]
  },
  {
   "cell_type": "code",
   "execution_count": 7,
   "metadata": {},
   "outputs": [
    {
     "data": {
      "text/plain": [
       "64"
      ]
     },
     "execution_count": 7,
     "metadata": {},
     "output_type": "execute_result"
    }
   ],
   "source": [
    "myFil.header.nchans"
   ]
  },
  {
   "cell_type": "markdown",
   "metadata": {},
   "source": [
    "Now that we know how to load a file into `sigpyproc`, let’s look at at doing something with the loaded data."
   ]
  },
  {
   "cell_type": "markdown",
   "metadata": {},
   "source": [
    "### Dedispersing the data"
   ]
  },
  {
   "cell_type": "markdown",
   "metadata": {},
   "source": [
    "One of the most used techniques in pulsar processing is dedispersion, wherein we add or remove frequency dependent\n",
    "time delays to the data.\n",
    "\n",
    "To dedisperse our `myFil` instance, we simply call the dedisperse method:"
   ]
  },
  {
   "cell_type": "code",
   "execution_count": 8,
   "metadata": {},
   "outputs": [
    {
     "name": "stderr",
     "output_type": "stream",
     "text": [
      "dedisperse : 100%|██████████| 19/19 [00:00<00:00, 339.45it/s]"
     ]
    },
    {
     "name": "stdout",
     "output_type": "stream",
     "text": [
      "\n",
      "Filterbank reading plan:\n",
      "------------------------\n",
      "Called on file:       tutorial.fil\n",
      "Called by:            dedisperse\n",
      "Number of samps:      187520\n",
      "Number of reads:      18\n",
      "Nsamps per read:      10000\n",
      "Nsamps of final read: 7826\n",
      "Nsamps to skip back:  17\n",
      "\n"
     ]
    },
    {
     "name": "stderr",
     "output_type": "stream",
     "text": [
      "\n"
     ]
    }
   ],
   "source": [
    "myTim = myFil.dedisperse(30)"
   ]
  },
  {
   "cell_type": "code",
   "execution_count": 9,
   "metadata": {},
   "outputs": [
    {
     "data": {
      "text/plain": [
       "TimeSeries([108., 100., 102., ..., 105., 111., 107.], dtype=float32)"
      ]
     },
     "execution_count": 9,
     "metadata": {},
     "output_type": "execute_result"
    }
   ],
   "source": [
    "myTim"
   ]
  },
  {
   "cell_type": "code",
   "execution_count": 10,
   "metadata": {},
   "outputs": [
    {
     "data": {
      "text/plain": [
       "sigpyproc.TimeSeries.TimeSeries"
      ]
     },
     "execution_count": 10,
     "metadata": {},
     "output_type": "execute_result"
    }
   ],
   "source": [
    "type(myTim)"
   ]
  },
  {
   "cell_type": "markdown",
   "metadata": {},
   "source": [
    "Here we have dedispersed to a DM of 30 pc cm$^{-3}$ with the result being an instance of the\n",
    ":automodule:`sigpyproc.TimeSeries.TimeSeries` class, which we have called `myTim`.\n",
    "\n",
    "The :automodule:`sigpyproc.TimeSeries.TimeSeries` class in a subclass of `numpy.ndarray`, and is capable of using\n",
    "all standard numpy functions. For example:"
   ]
  },
  {
   "cell_type": "code",
   "execution_count": 11,
   "metadata": {},
   "outputs": [
    {
     "data": {
      "text/plain": [
       "TimeSeries(19636992., dtype=float32)"
      ]
     },
     "execution_count": 11,
     "metadata": {},
     "output_type": "execute_result"
    }
   ],
   "source": [
    "myTim.sum()"
   ]
  },
  {
   "cell_type": "code",
   "execution_count": 12,
   "metadata": {},
   "outputs": [
    {
     "data": {
      "text/plain": [
       "TimeSeries(121., dtype=float32)"
      ]
     },
     "execution_count": 12,
     "metadata": {},
     "output_type": "execute_result"
    }
   ],
   "source": [
    "myTim.max()"
   ]
  },
  {
   "cell_type": "code",
   "execution_count": 13,
   "metadata": {},
   "outputs": [
    {
     "data": {
      "text/plain": [
       "TimeSeries(88., dtype=float32)"
      ]
     },
     "execution_count": 13,
     "metadata": {},
     "output_type": "execute_result"
    }
   ],
   "source": [
    "myTim.min()"
   ]
  },
  {
   "cell_type": "code",
   "execution_count": 14,
   "metadata": {},
   "outputs": [
    {
     "data": {
      "text/plain": [
       "TimeSeries(105., dtype=float32)"
      ]
     },
     "execution_count": 14,
     "metadata": {},
     "output_type": "execute_result"
    }
   ],
   "source": [
    "np.median(myTim)"
   ]
  },
  {
   "cell_type": "markdown",
   "metadata": {},
   "source": [
    "The use of `numpy.ndarray` subclasses is important in allowing sigpyproc to easily interface with many 3rd party\n",
    "python libraries."
   ]
  },
  {
   "cell_type": "markdown",
   "metadata": {},
   "source": [
    "### Performing a Fourier transform"
   ]
  },
  {
   "cell_type": "markdown",
   "metadata": {},
   "source": [
    "To perform a discrete fourier transform of the data contained in the `myTim` instance we may invoke the `myTim.rFFT`\n",
    "method."
   ]
  },
  {
   "cell_type": "code",
   "execution_count": 15,
   "metadata": {},
   "outputs": [],
   "source": [
    "myFS = myTim.rFFT()"
   ]
  },
  {
   "cell_type": "code",
   "execution_count": 16,
   "metadata": {},
   "outputs": [
    {
     "data": {
      "text/plain": [
       "sigpyproc.FourierSeries.FourierSeries"
      ]
     },
     "execution_count": 16,
     "metadata": {},
     "output_type": "execute_result"
    }
   ],
   "source": [
    "type(myFS)"
   ]
  },
  {
   "cell_type": "code",
   "execution_count": 17,
   "metadata": {},
   "outputs": [
    {
     "data": {
      "text/plain": [
       "FourierSeries([ 1.9636880e+07,  0.0000000e+00, -2.9421130e+02, ...,\n",
       "               -1.7792952e+03, -2.7670000e+03,  0.0000000e+00],\n",
       "              dtype=float32)"
      ]
     },
     "execution_count": 17,
     "metadata": {},
     "output_type": "execute_result"
    }
   ],
   "source": [
    "myFS"
   ]
  },
  {
   "cell_type": "markdown",
   "metadata": {},
   "source": [
    "The :automodule:`sigpyproc.FourierSeries.FourierSeries` is also a subclass of `numpy.ndarray`, where array elements are \n",
    "[real, imaginary, real, imaginary, real, imaginary, real,...].\n",
    "\n",
    "Using the `rednoise` method of `myFS`, we can de-redden the Fourier series:"
   ]
  },
  {
   "cell_type": "code",
   "execution_count": 18,
   "metadata": {},
   "outputs": [],
   "source": [
    "myFS_red = myFS.rednoise()"
   ]
  },
  {
   "cell_type": "code",
   "execution_count": 19,
   "metadata": {},
   "outputs": [
    {
     "data": {
      "text/plain": [
       "FourierSeries([ 1.        ,  0.        , -0.24654439, ..., -1.641717  ,\n",
       "               -2.5530508 ,  0.        ], dtype=float32)"
      ]
     },
     "execution_count": 19,
     "metadata": {},
     "output_type": "execute_result"
    }
   ],
   "source": [
    "myFS_red"
   ]
  },
  {
   "cell_type": "markdown",
   "metadata": {},
   "source": [
    "with the dereddened fourier series, we can now form the power spectrum of the observation:"
   ]
  },
  {
   "cell_type": "code",
   "execution_count": 20,
   "metadata": {},
   "outputs": [],
   "source": [
    "mySpec = myFS_red.formSpec(interpolated=True)"
   ]
  },
  {
   "cell_type": "code",
   "execution_count": 21,
   "metadata": {},
   "outputs": [
    {
     "data": {
      "text/plain": [
       "PowerSpectrum([1.        , 0.91751015, 0.78774583, ..., 2.0073905 ,\n",
       "               2.2536902 , 2.5530508 ], dtype=float32)"
      ]
     },
     "execution_count": 21,
     "metadata": {},
     "output_type": "execute_result"
    }
   ],
   "source": [
    "mySpec"
   ]
  },
  {
   "cell_type": "markdown",
   "metadata": {},
   "source": [
    "Here we have set the `interpolated` flag to True, causing the `formSpec` function to perform nearest bin interpolation.\n",
    "\n",
    "`mySpec` contains several convenience methods to help with navigating the power spectrum. For instance:"
   ]
  },
  {
   "cell_type": "code",
   "execution_count": 22,
   "metadata": {},
   "outputs": [
    {
     "data": {
      "text/plain": [
       "240"
      ]
     },
     "execution_count": 22,
     "metadata": {},
     "output_type": "execute_result"
    }
   ],
   "source": [
    "mySpec.period2bin(0.25)"
   ]
  },
  {
   "cell_type": "code",
   "execution_count": 23,
   "metadata": {},
   "outputs": [
    {
     "data": {
      "text/plain": [
       "300"
      ]
     },
     "execution_count": 23,
     "metadata": {},
     "output_type": "execute_result"
    }
   ],
   "source": [
    "mySpec.freq2bin(5.0)"
   ]
  },
  {
   "cell_type": "markdown",
   "metadata": {},
   "source": [
    "We can also perofrm Lyne-Ashworth harmonic folding to an arbitrary number of harmonics:"
   ]
  },
  {
   "cell_type": "code",
   "execution_count": 24,
   "metadata": {},
   "outputs": [],
   "source": [
    "folds = mySpec.harmonicFold(5)"
   ]
  },
  {
   "cell_type": "code",
   "execution_count": 25,
   "metadata": {},
   "outputs": [
    {
     "data": {
      "text/plain": [
       "[PowerSpectrum([1.       , 1.8350203, 1.705256 , ..., 3.460951 , 3.7072508,\n",
       "                2.5530508], dtype=float32),\n",
       " PowerSpectrum([1.       , 3.7525306, 3.622766 , ..., 3.460951 , 3.7072508,\n",
       "                2.5530508], dtype=float32),\n",
       " PowerSpectrum([1.       , 7.5875506, 7.457786 , ..., 3.460951 , 3.7072508,\n",
       "                2.5530508], dtype=float32),\n",
       " PowerSpectrum([ 1.       , 15.257591 , 15.127827 , ...,  3.460951 ,\n",
       "                 3.7072508,  2.5530508], dtype=float32),\n",
       " PowerSpectrum([ 1.       , 30.59768  , 30.467915 , ...,  3.460951 ,\n",
       "                 3.7072508,  2.5530508], dtype=float32)]"
      ]
     },
     "execution_count": 25,
     "metadata": {},
     "output_type": "execute_result"
    }
   ],
   "source": [
    "folds"
   ]
  },
  {
   "cell_type": "markdown",
   "metadata": {},
   "source": [
    "Where the variable `folds` is a python list containing each of the requested harmonic folds."
   ]
  },
  {
   "cell_type": "markdown",
   "metadata": {},
   "source": [
    "### Folding data"
   ]
  },
  {
   "cell_type": "markdown",
   "metadata": {},
   "source": [
    "Both the :automodule:`sigpyproc.TimeSeries.TimeSeries` and the :automodule:`sigpyproc.FourierSeries.FourierSeries`\n",
    "have methods to phase fold their data. Using our earlier myFil instance, we will fold our filterbank file with a period\n",
    "of 250 ms and a DM of pc cm$^{-3}$ and acceleration of 0 ms$^{-2}$."
   ]
  },
  {
   "cell_type": "code",
   "execution_count": 26,
   "metadata": {},
   "outputs": [
    {
     "name": "stderr",
     "output_type": "stream",
     "text": [
      "fold : 100%|██████████| 19/19 [00:00<00:00, 288.27it/s]"
     ]
    },
    {
     "name": "stdout",
     "output_type": "stream",
     "text": [
      "\n",
      "Filterbank reading plan:\n",
      "------------------------\n",
      "Called on file:       tutorial.fil\n",
      "Called by:            fold\n",
      "Number of samps:      187520\n",
      "Number of reads:      18\n",
      "Nsamps per read:      10000\n",
      "Nsamps of final read: 7826\n",
      "Nsamps to skip back:  17\n",
      "\n"
     ]
    },
    {
     "name": "stderr",
     "output_type": "stream",
     "text": [
      "\n"
     ]
    }
   ],
   "source": [
    "myFold = myFil.fold(0.25,30.,accel=0,nbins=128,nints=32,nbands=16)"
   ]
  },
  {
   "cell_type": "code",
   "execution_count": 27,
   "metadata": {},
   "outputs": [
    {
     "data": {
      "text/plain": [
       "sigpyproc.FoldedData.FoldedData"
      ]
     },
     "execution_count": 27,
     "metadata": {},
     "output_type": "execute_result"
    }
   ],
   "source": [
    "type(myFold)"
   ]
  },
  {
   "cell_type": "code",
   "execution_count": 28,
   "metadata": {},
   "outputs": [
    {
     "data": {
      "text/plain": [
       "(32, 16, 128)"
      ]
     },
     "execution_count": 28,
     "metadata": {},
     "output_type": "execute_result"
    }
   ],
   "source": [
    "myFold.shape"
   ]
  },
  {
   "cell_type": "markdown",
   "metadata": {},
   "source": [
    "The the :automodule:`sigpyproc.FoldedData.FoldedData` has several functions to enable simple slicing and summing of\n",
    "the folded data cube. These include:\n",
    "\n",
    "* `getSubband`: select all data in a single frequency band\n",
    "* `getSubint`: select all data in a single subintegration\n",
    "* `getFreqPhase`: sum the data in the time axis\n",
    "* `getTimePhase`: sum the data in the frequency axis\n",
    "*`getProfile`: get the pulse profile of the fold\n",
    "\n",
    "We can also tweak the DM and period of the fold using the `updateParams` method:"
   ]
  },
  {
   "cell_type": "code",
   "execution_count": 29,
   "metadata": {},
   "outputs": [],
   "source": [
    "myFold.updateParams(period=0.2502,dm=100)"
   ]
  },
  {
   "cell_type": "markdown",
   "metadata": {},
   "source": [
    "### Tips and tricks"
   ]
  },
  {
   "cell_type": "markdown",
   "metadata": {},
   "source": [
    "There are several tips and tricks to help speed up `sigpyproc` and also make it more user friendly. For people who are\n",
    "familiar with Python and IPython these will be old news, but for newbies these may be of use."
   ]
  },
  {
   "cell_type": "markdown",
   "metadata": {},
   "source": [
    "**Tab completion**: One of the many nice things about IPython is that it allows for tab completion:"
   ]
  },
  {
   "cell_type": "code",
   "execution_count": 30,
   "metadata": {},
   "outputs": [
    {
     "data": {
      "text/plain": [
       "<sigpyproc.Readers.FilReader at 0x7f29d0537ee0>"
      ]
     },
     "execution_count": 30,
     "metadata": {},
     "output_type": "execute_result"
    }
   ],
   "source": [
    "myFil   # then press tab"
   ]
  },
  {
   "cell_type": "markdown",
   "metadata": {},
   "source": [
    "**Docstrings**: by using question marks or double question marks we can access both information about a function and\n",
    "its raw source:"
   ]
  },
  {
   "cell_type": "code",
   "execution_count": 31,
   "metadata": {},
   "outputs": [
    {
     "data": {
      "text/plain": [
       "\u001b[0;31mSignature:\u001b[0m\n",
       "\u001b[0mmyFil\u001b[0m\u001b[0;34m.\u001b[0m\u001b[0mdownsample\u001b[0m\u001b[0;34m(\u001b[0m\u001b[0;34m\u001b[0m\n",
       "\u001b[0;34m\u001b[0m    \u001b[0mtfactor\u001b[0m\u001b[0;34m=\u001b[0m\u001b[0;36m1\u001b[0m\u001b[0;34m,\u001b[0m\u001b[0;34m\u001b[0m\n",
       "\u001b[0;34m\u001b[0m    \u001b[0mffactor\u001b[0m\u001b[0;34m=\u001b[0m\u001b[0;36m1\u001b[0m\u001b[0;34m,\u001b[0m\u001b[0;34m\u001b[0m\n",
       "\u001b[0;34m\u001b[0m    \u001b[0mgulp\u001b[0m\u001b[0;34m=\u001b[0m\u001b[0;36m512\u001b[0m\u001b[0;34m,\u001b[0m\u001b[0;34m\u001b[0m\n",
       "\u001b[0;34m\u001b[0m    \u001b[0mfilename\u001b[0m\u001b[0;34m=\u001b[0m\u001b[0;32mNone\u001b[0m\u001b[0;34m,\u001b[0m\u001b[0;34m\u001b[0m\n",
       "\u001b[0;34m\u001b[0m    \u001b[0mback_compatible\u001b[0m\u001b[0;34m=\u001b[0m\u001b[0;32mTrue\u001b[0m\u001b[0;34m,\u001b[0m\u001b[0;34m\u001b[0m\n",
       "\u001b[0;34m\u001b[0m    \u001b[0;34m**\u001b[0m\u001b[0mkwargs\u001b[0m\u001b[0;34m,\u001b[0m\u001b[0;34m\u001b[0m\n",
       "\u001b[0;34m\u001b[0m\u001b[0;34m)\u001b[0m\u001b[0;34m\u001b[0m\u001b[0;34m\u001b[0m\u001b[0m\n",
       "\u001b[0;31mDocstring:\u001b[0m\n",
       "Downsample data in time and/or frequency and write to file.\n",
       "\n",
       ":param tfactor: factor by which to downsample in time\n",
       ":type tfactor: int\n",
       "\n",
       ":param ffactor: factor by which to downsample in frequency\n",
       ":type ffactor: int\n",
       "\n",
       ":param gulp: number of samples in each read\n",
       ":type gulp: int\n",
       "\n",
       ":param filename: name of file to write to (defaults to ``basename_tfactor_ffactor.fil``)\n",
       ":type filename: str\n",
       "\n",
       ":param back_compatible: sigproc compatibility flag (legacy code)\n",
       ":type back_compatible: bool\n",
       "\n",
       ":return: output file name\n",
       ":rtype: :func:`str`\n",
       "\u001b[0;31mFile:\u001b[0m      ~/anaconda3/lib/python3.8/site-packages/sigpyproc/Filterbank.py\n",
       "\u001b[0;31mType:\u001b[0m      method\n"
      ]
     },
     "metadata": {},
     "output_type": "display_data"
    }
   ],
   "source": [
    "myFil.downsample?"
   ]
  },
  {
   "cell_type": "markdown",
   "metadata": {},
   "source": [
    "Note that all docstrings are written in `reStructuredText`. This is to facilitate automatic documentation creation with the\n",
    "Sphinx package."
   ]
  },
  {
   "cell_type": "markdown",
   "metadata": {},
   "source": [
    "**Threading**: The use of OpenMP means that several of C++ library calls in sigpyproc can be sped up:"
   ]
  },
  {
   "cell_type": "code",
   "execution_count": 32,
   "metadata": {},
   "outputs": [],
   "source": [
    "myFil.setNthreads(2) # enable OpenMP to use 2 threads"
   ]
  },
  {
   "cell_type": "markdown",
   "metadata": {},
   "source": [
    "It should be noted that threading will not always speed up a process, and that the performance does not scale linearly\n",
    "with number of threads used."
   ]
  },
  {
   "cell_type": "markdown",
   "metadata": {},
   "source": [
    "**Chaining**: The ability to chain together methods, combined with history recall in IPython means that it is simple to\n",
    "condense a sigpyproc request into a single line:"
   ]
  },
  {
   "cell_type": "code",
   "execution_count": 33,
   "metadata": {},
   "outputs": [
    {
     "name": "stderr",
     "output_type": "stream",
     "text": [
      "collapse : 100%|██████████| 367/367 [00:00<00:00, 8174.90it/s]\n"
     ]
    },
    {
     "name": "stdout",
     "output_type": "stream",
     "text": [
      "\n",
      "Filterbank reading plan:\n",
      "------------------------\n",
      "Called on file:       tutorial.fil\n",
      "Called by:            collapse\n",
      "Number of samps:      187520\n",
      "Number of reads:      366\n",
      "Nsamps per read:      512\n",
      "Nsamps of final read: 128\n",
      "Nsamps to skip back:  0\n",
      "\n"
     ]
    }
   ],
   "source": [
    "spectrum = FilReader(\"tutorial.fil\").collapse().rFFT().rednoise().formSpec(True)"
   ]
  },
  {
   "cell_type": "markdown",
   "metadata": {},
   "source": [
    "Here we create a `FilReader` instance, which is then collapsed in frequency, FFT’d, cleaned of rednoise and interpolated to form a power spectrum. In the intrests of readability, this is not always a good idea, however for testing code\n",
    "quickly, it is invaluable."
   ]
  }
 ],
 "metadata": {
  "kernelspec": {
   "display_name": "Python 3",
   "language": "python",
   "name": "python3"
  },
  "language_info": {
   "codemirror_mode": {
    "name": "ipython",
    "version": 3
   },
   "file_extension": ".py",
   "mimetype": "text/x-python",
   "name": "python",
   "nbconvert_exporter": "python",
   "pygments_lexer": "ipython3",
   "version": "3.8.5"
  }
 },
 "nbformat": 4,
 "nbformat_minor": 4
}
